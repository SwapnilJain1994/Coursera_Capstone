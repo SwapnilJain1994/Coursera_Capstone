{
 "cells": [
  {
   "cell_type": "markdown",
   "metadata": {},
   "source": [
    "## Data\n",
    "\n",
    "### Data sources :  \n",
    "\n",
    "Data will be sourced from provided by USPS(United States postal service) website having details of all USA county wise details geographical details in it. I will do analysis on the dataset to determine which of the fields can be used for our problem. The dataset has information related to all counties, zip codes, state codes, neighborhoods and coordinates.\n",
    "\n",
    "### Data cleaning/wrangling and feature selection :\n",
    "\n",
    "Data downloaded has information for all the counties across USA. So I will filter out the dataset based on state code ‘DE’ for Delaware. And after that I will select only those records that are for New Castle county. I will then utilize the features(“County”, “Neighborhood”, ”Latitude”, “Longitude” ) of the selected records to proceed further.\n",
    "\n",
    "Based on the neighborhood location information available, I will then be using(latitude and longitude) of it in making foursquare API calls to get/explore more information and facts about that particular neighborhood . I will then reformat the foursquare returned info by filtering/refining the information based on the need to approach towards the solution.\n",
    "\n",
    "For eg based on the neighborhood (say Newark) , I will make foursquare API call to get all the nearby venues (say in a radius of 2000 m) . And then use this info to find what are the types of venues (say restaurant, grocery stores, gymnasium etc) that are most popular in that neighborhood and based on those types we can filter out any specific venue type which fits closely his business needs.\n",
    "\n",
    "Fourquare API calls will also be used to get/retrieve information related to the most trending and happening venues in any particular neighborhood, so that cross analysis can be done about what are already popular venues in that neighborhood and what are the trending venues in that neighborhood."
   ]
  },
  {
   "cell_type": "code",
   "execution_count": null,
   "metadata": {},
   "outputs": [],
   "source": []
  }
 ],
 "metadata": {
  "kernelspec": {
   "display_name": "Python",
   "language": "python",
   "name": "conda-env-python-py"
  },
  "language_info": {
   "codemirror_mode": {
    "name": "ipython",
    "version": 3
   },
   "file_extension": ".py",
   "mimetype": "text/x-python",
   "name": "python",
   "nbconvert_exporter": "python",
   "pygments_lexer": "ipython3",
   "version": "3.6.10"
  }
 },
 "nbformat": 4,
 "nbformat_minor": 4
}
