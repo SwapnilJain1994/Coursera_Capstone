{
 "cells": [
  {
   "cell_type": "markdown",
   "metadata": {},
   "source": [
    "# Predicting suitable commercial business type and location in New Castle, Delaware\n",
    "\n",
    "Swapnil Jain\n",
    "June 12th, 2020\n",
    "\n",
    "### Introduction and Business Problem :\n",
    "\n",
    "##### A large scale business owner, who has a wide scale presence in many cities in USA, wants to start a new business in New Castle county in Delaware, USA. He is already exposed to various types of business setups (eg grocery stores, restaurants, fast food centers etc), but it is his first time he is planning to setup some business in New Castle, Delaware. Even though he has some business ideas floating in his mind, he thinks now it's the time to balance it with a little reality. Does those ideas have the potential to succeed?  Well he realizes the need to run his business ideas through a validation process before he go any further and take a final call.\n",
    "\n",
    "##### In order for the business to be successful, it must solve a problem, fulfill a need or offer something the market wants. There are a number of ways we can identify this need, may be  research, focus groups, and even trial and error etc.\n",
    "\n",
    "##### Given the fact there are multiple options of new businesses as well as many choices in terms of location, he wants to have better understanding and clear information/knowledge about the most suitable business options in New Castle county and that too which specific location/neighborhood, so that it maximizes his ROI (return on investment) and profit. Location selection of the place of the  business is equally important along with the type of business for the smooth operation of the business. \n",
    "\n",
    "##### Once the solution is figured out regarding the suitable location and type of business, he may possibly need to extend his thinking to find out whether his business can deliver something other companies don't (or deliver the same thing, only faster and cheaper).\n",
    "\n",
    "### Target Audience\n",
    "\n",
    "##### This solution of this problem can benefit bigger audience (ie other similar business owners) who are also intending/planning to open similar new businesses (even startups also) in the city of New Castle, Delaware. Because it is very important and critical for the business owners to know the pros and cons of the type of business they are investing into. And on top of that, its very crucial selecting the correct location so as to target maximum possible customers for his / her business. "
   ]
  },
  {
   "cell_type": "code",
   "execution_count": null,
   "metadata": {},
   "outputs": [],
   "source": []
  }
 ],
 "metadata": {
  "kernelspec": {
   "display_name": "Python",
   "language": "python",
   "name": "conda-env-python-py"
  },
  "language_info": {
   "codemirror_mode": {
    "name": "ipython",
    "version": 3
   },
   "file_extension": ".py",
   "mimetype": "text/x-python",
   "name": "python",
   "nbconvert_exporter": "python",
   "pygments_lexer": "ipython3",
   "version": "3.6.10"
  }
 },
 "nbformat": 4,
 "nbformat_minor": 4
}
