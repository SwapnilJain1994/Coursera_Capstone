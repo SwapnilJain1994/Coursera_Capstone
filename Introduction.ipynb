{
 "cells": [
  {
   "cell_type": "markdown",
   "metadata": {},
   "source": [
    "# Predicting suitable commercial business type and location in New Castle, Delaware\n",
    "\n",
    "Swapnil Jain\n",
    "June 12th, 2020\n",
    "\n",
    "### Introduction and Business Problem :\n",
    "\n",
    "##### A large scale business owner, who has a wide scale presence in many cities in USA, wants to start a new business in New Castle county in Delaware, USA. He is already exposed to various types of business setups (eg grocery stores, restaurants, fast food centers etc), but it is his first time he is planning to setup some business in New Castle, Delaware. Even though he has some business ideas floating in his mind, he thinks now it's the time to balance it with a little reality. Does those ideas have the potential to succeed?  Well he realizes the need to run his business ideas through a validation process before he go any further and take a final call.\n",
    "\n",
    "##### In order for the business to be successful, it must solve a problem, fulfill a need or offer something the market wants. There are a number of ways we can identify this need, may be  research, focus groups, and even trial and error etc.\n",
    "\n",
    "##### Given the fact there are multiple options of new businesses as well as many choices in terms of location, he wants to have better understanding and clear information/knowledge about the most suitable business options in New Castle county and that too which specific location/neighborhood, so that it maximizes his ROI (return on investment) and profit. Location selection of the place of the  business is equally important along with the type of business for the smooth operation of the business. \n",
    "\n",
    "##### Once the solution is figured out regarding the suitable location and type of business, he may possibly need to extend his thinking to find out whether his business can deliver something other companies don't (or deliver the same thing, only faster and cheaper).\n",
    "\n",
    "### Target Audience\n",
    "\n",
    "##### This solution of this problem can benefit bigger audience (ie other similar business owners) who are also intending/planning to open similar new businesses (even startups also) in the city of New Castle, Delaware. Because it is very important and critical for the business owners to know the pros and cons of the type of business they are investing into. And on top of that, its very crucial selecting the correct location so as to target maximum possible customers for his / her business. \n",
    "\n",
    "\n",
    "\n",
    "Data\n",
    "\n",
    "Data sources\n",
    "I will source dataset from USPS(United States postal service) website having details of all USA  county wise details geographical details in it. I will do analysis on the dataset to determine which of the fields can be used for our problem. The dataset has information related to all counties, zip codes, state codes, neighborhoods and coordinates. \n",
    "\n",
    "Data cleaning/wrangling and feature selection\n",
    "Data downloaded has information for all the counties across USA. So I will filter out the dataset based on state code ‘DE’ for Delaware. And after that I will select only those records that are for New Castle county. I will then utilize the features(“County”, “Neighborhood”, ”Latitude”, “Longitude” ) of the selected records to proceed further. \n",
    "\n",
    "Based on the neighborhood location information available, I will then be using(latitude and longitude) of it in making foursquare API calls to get/explore more information and facts about that particular neighborhood . I will then reformat the foursquare returned info by filtering/refining the information based on the need to approach towards the solution.  \n",
    "\n",
    "For eg based on the neighborhood (say Newark) , I will make foursquare API call to get all the nearby venues (say in a radius of 2000 m) . And then use this info to find what are the types of venues (say restaurant, grocery stores, gymnasium etc)  that are most popular in that neighborhood and based on those types we can filter out any specific venue type which fits closely his business needs.\n",
    " \n",
    "Fourquare API calls will also be used to get/retrieve information related to the most trending and happening  venues in any particular neighborhood, so that cross analysis can be done about what are already popular venues in that neighborhood and what are the trending venues in that neighborhood.\n"
   ]
  },
  {
   "cell_type": "code",
   "execution_count": null,
   "metadata": {},
   "outputs": [],
   "source": []
  }
 ],
 "metadata": {
  "kernelspec": {
   "display_name": "Python",
   "language": "python",
   "name": "conda-env-python-py"
  },
  "language_info": {
   "codemirror_mode": {
    "name": "ipython",
    "version": 3
   },
   "file_extension": ".py",
   "mimetype": "text/x-python",
   "name": "python",
   "nbconvert_exporter": "python",
   "pygments_lexer": "ipython3",
   "version": "3.6.10"
  }
 },
 "nbformat": 4,
 "nbformat_minor": 4
}
